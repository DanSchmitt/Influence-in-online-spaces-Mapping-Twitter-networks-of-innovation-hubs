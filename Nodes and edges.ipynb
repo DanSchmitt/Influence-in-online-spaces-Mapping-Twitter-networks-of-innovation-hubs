{
 "cells": [
  {
   "cell_type": "code",
   "execution_count": null,
   "metadata": {},
   "outputs": [],
   "source": [
    "import sys\n",
    "import re\n",
    "import numpy as np\n",
    "from datetime import datetime\n",
    "import pandas as pd\n",
    "import json"
   ]
  },
  {
   "cell_type": "code",
   "execution_count": null,
   "metadata": {
    "scrolled": true
   },
   "outputs": [],
   "source": [
    "#Retweets\n",
    "\n",
    "userdata = pd.DataFrame(columns=('Id','Label','user_created_at','profile_image','followers_count','friends_count' ))\n",
    "edges = pd.DataFrame(columns=('Source','Target','Strength'))\n",
    "\n",
    "with open('combined_data.json', 'r') as f:\n",
    "    file = json.load(f)\n",
    "    for tweet in file:\n",
    "        if 'retweeted_status' not in tweet:\n",
    "            continue\n",
    "        userdata = userdata.append(pd.DataFrame([[tweet['user']['id_str'],\n",
    "                                    tweet['user']['screen_name'],\n",
    "                                    tweet['user']['created_at'],\n",
    "                                    tweet['user']['profile_image_url_https'],\n",
    "                                    tweet['user']['followers_count'],\n",
    "                                    tweet['user']['friends_count']]], columns=('Id','Label','user_created_at','profile_image','followers_count','friends_count')), ignore_index=True)\n",
    "        userdata = userdata.append(pd.DataFrame([[tweet['retweeted_status']['user']['id_str'],\n",
    "                                    tweet['retweeted_status']['user']['screen_name'],\n",
    "                                    tweet['retweeted_status']['user']['created_at'],\n",
    "                                    tweet['retweeted_status']['user']['profile_image_url_https'],\n",
    "                                    tweet['retweeted_status']['user']['followers_count'],\n",
    "                                    tweet['retweeted_status']['user']['friends_count']]], columns=('Id','Label','user_created_at','profile_image','followers_count','friends_count')), ignore_index=True)                 \n",
    "        edges = edges.append(pd.DataFrame([[tweet['user']['id_str'],\n",
    "                                    tweet['retweeted_status']['user']['id_str'],\n",
    "                                    str(datetime.strptime(tweet['created_at'], '%a %b %d %H:%M:%S +0000 %Y'))]]\n",
    "                                    , columns=('Source','Target','Strength')), ignore_index=True)\n"
   ]
  },
  {
   "cell_type": "code",
   "execution_count": null,
   "metadata": {},
   "outputs": [],
   "source": [
    "# Mentions\n",
    "\n",
    "userdata = pd.DataFrame(columns=('Id','Label','user_created_at','profile_image','followers_count','friends_count' ))\n",
    "edges = pd.DataFrame(columns=('Source','Target','Strength'))\n",
    "\n",
    "with open('combined_data.json', 'r') as f:\n",
    "    file = json.load(f)\n",
    "    for tweet in file:\n",
    "        if len(tweet['entities']['user_mentions']) == 0:\n",
    "            continue\n",
    "\n",
    "        for mention in tweet['entities']['user_mentions']:\n",
    "            userdata = userdata.append(pd.DataFrame([[tweet['user']['id_str'],\n",
    "                                    tweet['user']['screen_name'],\n",
    "                                    tweet['user']['created_at'],\n",
    "                                    tweet['user']['profile_image_url_https'],\n",
    "                                    tweet['user']['followers_count'],\n",
    "                                    tweet['user']['friends_count']]], columns=('Id','Label','user_created_at','profile_image','followers_count','friends_count')), ignore_index=True)\n",
    "            \n",
    "            edges = edges.append(pd.DataFrame([[tweet['user']['id_str'],\n",
    "                                        mention['id_str'],\n",
    "                                        str(datetime.strptime(tweet['created_at'], '%a %b %d %H:%M:%S +0000 %Y'))]]\n",
    "                                        , columns=('Source','Target','Strength')), ignore_index=True)"
   ]
  },
  {
   "cell_type": "code",
   "execution_count": null,
   "metadata": {},
   "outputs": [],
   "source": [
    "# Replies\n",
    "\n",
    "userdata = pd.DataFrame(columns=('Id','Label','user_created_at','profile_image','followers_count','friends_count' ))\n",
    "edges = pd.DataFrame(columns=('Source','Target','Strength'))\n",
    "\n",
    "with open('combined_data.json', 'r') as f:\n",
    "    file = json.load(f)\n",
    "    for tweet in file:\n",
    "        if tweet['in_reply_to_user_id_str'] is None:\n",
    "            continue\n",
    "\n",
    "        userdata = userdata.append(pd.DataFrame([[tweet['user']['id_str'],\n",
    "                                    tweet['user']['screen_name'],\n",
    "                                    tweet['user']['created_at'],\n",
    "                                    tweet['user']['profile_image_url_https'],\n",
    "                                    tweet['user']['followers_count'],\n",
    "                                    tweet['user']['friends_count']]], columns=('Id','Label','user_created_at','profile_image','followers_count','friends_count')), ignore_index=True)\n",
    "        if len(userdata[userdata['Id'].str.contains(tweet['in_reply_to_user_id_str'])]) == 0:\n",
    "                userdata = userdata.append(pd.DataFrame([[tweet['in_reply_to_user_id_str'],\n",
    "                                    tweet['in_reply_to_screen_name'],\n",
    "                                    np.nan,\n",
    "                                    np.nan,\n",
    "                                    np.nan,\n",
    "                                    np.nan]], columns=('Id','Label','user_created_at','profile_image','followers_count','friends_count')), ignore_index=True)\n",
    "        edges = edges.append(pd.DataFrame([[tweet['user']['id_str'],\n",
    "                                    tweet['in_reply_to_user_id_str'],\n",
    "                                    str(datetime.strptime(tweet['created_at'], '%a %b %d %H:%M:%S +0000 %Y'))]]\n",
    "                                    , columns=('Source','Target','Strength')), ignore_index=True)"
   ]
  },
  {
   "cell_type": "code",
   "execution_count": null,
   "metadata": {},
   "outputs": [],
   "source": [
    "sl = 20 \n",
    "\n",
    "edges2 = edges.groupby(['Source','Target'])['Strength'].count()\n",
    "edges2 = edges2.reset_index()\n",
    "edges2 = edges2[edges2['Strength'] >= sl]"
   ]
  },
  {
   "cell_type": "code",
   "execution_count": null,
   "metadata": {},
   "outputs": [],
   "source": [
    "userdata = userdata.sort_values(['Id','followers_count'], ascending=[True, False])\n",
    "userdata = userdata.drop_duplicates(['Id'], keep='first') \n",
    "\n",
    "ids = edges2['Source'].append(edges2['Target']).to_frame()\n",
    "ids.columns = ['Id']\n",
    "ids = ids.drop_duplicates()\n",
    "\n",
    "nodes = pd.merge(ids, userdata, on='Id', how='left')"
   ]
  },
  {
   "cell_type": "code",
   "execution_count": null,
   "metadata": {},
   "outputs": [],
   "source": [
    "nodes.to_csv('nodes_@_20.csv', encoding='utf-8', index=False)\n",
    "edges.to_csv('edges_@_20.csv', encoding='utf-8', index=False)"
   ]
  }
 ],
 "metadata": {
  "kernelspec": {
   "display_name": "Python 3",
   "language": "python",
   "name": "python3"
  },
  "language_info": {
   "codemirror_mode": {
    "name": "ipython",
    "version": 3
   },
   "file_extension": ".py",
   "mimetype": "text/x-python",
   "name": "python",
   "nbconvert_exporter": "python",
   "pygments_lexer": "ipython3",
   "version": "3.7.1"
  }
 },
 "nbformat": 4,
 "nbformat_minor": 2
}
